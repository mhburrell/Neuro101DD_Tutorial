{
  "cells": [
    {
      "cell_type": "markdown",
      "source": [
        "# Setup"
      ],
      "metadata": {
        "id": "ufWw740Zw8dW"
      }
    },
    {
      "cell_type": "markdown",
      "source": [
        "**Usage Instructions**:\n",
        "\n",
        "Everytime you open or reset the session you must run the first two cells."
      ],
      "metadata": {
        "id": "qjUj6DbEwkjq"
      }
    },
    {
      "cell_type": "code",
      "execution_count": null,
      "metadata": {
        "id": "Fl_UvXE1n2Hr"
      },
      "outputs": [],
      "source": [
        "#RUN THIS\n",
        "\n",
        "!pip -q install \"spikeinterface>=0.101\" \"spikeinterface[full,widgets]\" pyarrow pandas scipy numpy\n",
        "!pip -q install tridesclous || true\n"
      ]
    },
    {
      "cell_type": "code",
      "execution_count": null,
      "metadata": {
        "id": "tGP1_SjPoHcS"
      },
      "outputs": [],
      "source": [
        "#RUN THIS\n",
        "\n",
        "import os, sys, importlib, pathlib, subprocess\n",
        "\n",
        "UTILS_URL = \"https://raw.githubusercontent.com/mhburrell/Neuro101DD_Tutorial/refs/heads/main/n101dd_functions.py\"\n",
        "UTILS_FILENAME = \"workshop_utils.py\"\n",
        "subprocess.check_call([\"curl\", \"-L\", UTILS_URL, \"-o\", UTILS_FILENAME])\n",
        "sys.path.insert(0, str(pathlib.Path('.').resolve()))\n",
        "\n",
        "from workshop_utils import plot_trial, plot_all_trials, listen_recording, filter_recording, run_sorting, load_recording\n"
      ]
    },
    {
      "cell_type": "markdown",
      "source": [
        "# Data Inspection\n",
        "\n",
        "There are three functions to inspect the raw data"
      ],
      "metadata": {
        "id": "IVm28bp2xD_P"
      }
    },
    {
      "cell_type": "markdown",
      "source": [
        "## Plot_all_trials\n",
        "\n",
        "This function plots all the data for each recording in one plot, coloring each trial a different color."
      ],
      "metadata": {
        "id": "xfY9kBMuxQ5p"
      }
    },
    {
      "cell_type": "code",
      "source": [
        "plot_all_trials(recording_number=1)\n",
        "#Try changing the recording number (between 1 and 7) and re-running the cell to look at the different recordings"
      ],
      "metadata": {
        "id": "vlcwJ8-Rxcor"
      },
      "execution_count": null,
      "outputs": []
    },
    {
      "cell_type": "markdown",
      "source": [
        "## Plot_trial\n",
        "\n",
        "This function plots an individual trial in each recording. This provides a more zoomed in look and also lets you compare early trials (e.g. trial 1, 2, 3) against late trials (e.g. 100, 101)"
      ],
      "metadata": {
        "id": "fq_4_-5ZxpKD"
      }
    },
    {
      "cell_type": "code",
      "source": [
        "plot_trial(recording_number=1, trial_num=1)"
      ],
      "metadata": {
        "id": "oOndTOJix4QG"
      },
      "execution_count": null,
      "outputs": []
    },
    {
      "cell_type": "markdown",
      "source": [
        "## Listen_recording\n",
        "\n",
        "A more useful way to get a feel for the data is to listen to the recording. This function takes a couple of trials and puts them together (leaving a 1 second gap between trials). Have a listen to each recording."
      ],
      "metadata": {
        "id": "iALuNzlfyL_V"
      }
    },
    {
      "cell_type": "code",
      "source": [
        "listen_recording(recording_number=1,start_trial=1)\n",
        "#This will take five trials after the start_trial, you could change it to listen to the later part of the recording"
      ],
      "metadata": {
        "id": "j75KRXkyyokg"
      },
      "execution_count": null,
      "outputs": []
    },
    {
      "cell_type": "markdown",
      "source": [
        "# Filtering\n",
        "\n"
      ],
      "metadata": {
        "id": "VjgScgrCz-5y"
      }
    },
    {
      "cell_type": "code",
      "source": [
        "filter_recording(recording_number=1,freq_min = 300, freq_max = 6000)"
      ],
      "metadata": {
        "id": "EDHUD_3f0CYI"
      },
      "execution_count": null,
      "outputs": []
    },
    {
      "cell_type": "markdown",
      "source": [
        "# Spike Sorting\n",
        "\n",
        "The function run_sorting does two steps of the spike sorting pipeline. It detects threshold crossing using a parameter called detect_threshold that is measured in [median absolute deviation](https://en.wikipedia.org/wiki/Median_absolute_deviation). It then uses these spikes to identify templates and matches them to each of the detect spikes, sorting them.\n",
        "\n",
        "The function gives several useful bits of information. It gives the average firing rate of each neuron, it shows the template spike used for each neuron and it plots a raster plot and PSTH for each neuron.\n",
        "\n",
        "There is also an option to filter the data before it is sorted, which maybe necessary on some of the noiser recordings."
      ],
      "metadata": {
        "id": "uMqwkmdUxOqX"
      }
    },
    {
      "cell_type": "code",
      "source": [
        "run_sorting(recording_number=5,detect_threshold = 5, filter=False, freq_min = 300, freq_max = 6000)"
      ],
      "metadata": {
        "id": "UwBm_VTuyG_N"
      },
      "execution_count": null,
      "outputs": []
    }
  ],
  "metadata": {
    "colab": {
      "provenance": []
    },
    "kernelspec": {
      "display_name": "Python 3",
      "name": "python3"
    },
    "language_info": {
      "name": "python"
    }
  },
  "nbformat": 4,
  "nbformat_minor": 0
}