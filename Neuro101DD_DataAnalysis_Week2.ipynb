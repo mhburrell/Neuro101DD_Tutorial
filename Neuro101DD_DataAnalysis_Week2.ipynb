{
  "nbformat": 4,
  "nbformat_minor": 0,
  "metadata": {
    "colab": {
      "provenance": []
    },
    "kernelspec": {
      "name": "python3",
      "display_name": "Python 3"
    },
    "language_info": {
      "name": "python"
    }
  },
  "cells": [
    {
      "cell_type": "markdown",
      "source": [
        "#Setup\n",
        "##Usage Instructions:\n",
        "\n",
        "Everytime you open or reset the session you must run the first two cells.\n"
      ],
      "metadata": {
        "id": "k-M6DUj7TO42"
      }
    },
    {
      "cell_type": "code",
      "execution_count": null,
      "metadata": {
        "id": "AQRFq350z4Sv"
      },
      "outputs": [],
      "source": [
        "#RUN THIS\n",
        "\n",
        "!pip -q install \"spikeinterface>=0.101\" \"spikeinterface[full,widgets]\" pyarrow pandas scipy numpy\n",
        "!pip -q install tridesclous || true"
      ]
    },
    {
      "cell_type": "code",
      "source": [
        "#RUN THIS\n",
        "\n",
        "import os, sys, importlib, pathlib, subprocess\n",
        "\n",
        "UTILS_URL = \"https://raw.githubusercontent.com/mhburrell/Neuro101DD_Tutorial/refs/heads/main/n101dd_functions.py\"\n",
        "UTILS_FILENAME = \"workshop_utils.py\"\n",
        "subprocess.check_call([\"curl\", \"-L\", UTILS_URL, \"-o\", UTILS_FILENAME])\n",
        "sys.path.insert(0, str(pathlib.Path('.').resolve()))\n",
        "\n",
        "UTILS_URL = \"https://raw.githubusercontent.com/mhburrell/Neuro101DD_Tutorial/refs/heads/main/sorted_spikes_tools.py\"\n",
        "UTILS_FILENAME = \"week2_utils.py\"\n",
        "subprocess.check_call([\"curl\", \"-L\", UTILS_URL, \"-o\", UTILS_FILENAME])\n",
        "sys.path.insert(0, str(pathlib.Path('.').resolve()))\n",
        "\n",
        "from workshop_utils import plot_trial, plot_all_trials, listen_recording, filter_recording, run_sorting, load_recording\n",
        "from week2_utils import plot_raster_psth_all, plot_raster_psth_by_situation, count_spikes_and_hist_by_situation, stats_within_situation, stats_between_situations\n",
        "\n"
      ],
      "metadata": {
        "id": "w687Qo_S0N4f"
      },
      "execution_count": null,
      "outputs": []
    },
    {
      "cell_type": "markdown",
      "source": [
        "# Data Alignment\n",
        "\n",
        "The spike sorting done in week 1 was not aligned - the reward and cues happen at a random time inside the trial\n",
        "\n",
        "We actually have five situations (trial types) that are in our data, these are labelled in the data as follows:\n",
        "\n",
        "\n",
        "1.   Situation 1: Unpredicted reward delivery\n",
        "2.   Situation 2: Red cue then reward\n",
        "3.   Situation 3: Blue then reward\n",
        "4.   Situation 4: Blue cue then no reward\n",
        "5.   Situation 5: Yellow cue (then no reward)\n",
        "\n"
      ],
      "metadata": {
        "id": "dD4FCBAPTrc7"
      }
    },
    {
      "cell_type": "markdown",
      "source": [
        "##plot_raster_psth_all\n",
        "\n",
        "This function plots a raster, aligning to cue or reward as specified in the order that the trials were recorded. Specify which cell to plot by changing the recording number and the cell number (cell_num = 1 for all recordings except recording 5, where you have cell_num = 1 and cell_num = 2). Change what event is aligned to by changing align_to to either 'reward' or 'cue'"
      ],
      "metadata": {
        "id": "m3yLLlv1UWLv"
      }
    },
    {
      "cell_type": "code",
      "source": [
        "plot_raster_psth_all(recording_num=1,cell_num=1,align_to='cue',t_window_ms = [-500,1500],bin_size_ms = 50)"
      ],
      "metadata": {
        "id": "5rujA0fUAh0f"
      },
      "execution_count": null,
      "outputs": []
    },
    {
      "cell_type": "markdown",
      "source": [
        "#plot_raster_psth_by_situation\n",
        "\n",
        "This does something similar to the above, but plots the data individually for each situation. Note, with the unexpected reward (situation 1) there is no cue so you will not see it if you plot aligning to cue. When aligning to reward, the alignment is done to when reward might have been delivered, whether it was or not (in the case of the blue and yellow cues). The input options are the same as in the other raster plotting function.\n",
        "\n"
      ],
      "metadata": {
        "id": "yEyuhryqVKyT"
      }
    },
    {
      "cell_type": "code",
      "source": [
        "plot_raster_psth_by_situation(recording_num=1,cell_num=1,align_to='cue',t_window_ms = [-500,1500],bin_size_ms = 50)"
      ],
      "metadata": {
        "id": "aAyvDk9K3ny6"
      },
      "execution_count": null,
      "outputs": []
    },
    {
      "cell_type": "markdown",
      "source": [
        "#Spike Counting\n",
        "\n",
        "##count_spikes_and_hist_by_situation\n",
        "\n",
        "Use this function to count spikes in a specific window and plot histograms of spike counts in that time window for each trial. Change the alignment to 'cue' or 'reward' and the window_ms (time window in ms relative to the aligned event, e.g. [50,400] means 50 to 400 ms after the event, [-250,-50] would mean 250 ms to 50 ms before the event)"
      ],
      "metadata": {
        "id": "sk61PdtEWZNl"
      }
    },
    {
      "cell_type": "code",
      "source": [
        "count_spikes_and_hist_by_situation(recording_num=1,cell_num=1,align_to='cue',window_ms = [50,400])"
      ],
      "metadata": {
        "id": "8Miu0atBWppT"
      },
      "execution_count": null,
      "outputs": []
    },
    {
      "cell_type": "markdown",
      "source": [
        "#Statistics\n",
        "\n",
        "#Reward Responses\n",
        "\n",
        "We will use the function stats_within_situation to check whether the reward/omission response is significantly different from the time period just before reward.\n",
        "\n",
        "You will need to change the situation input and the recording_num to complete the question. Note the window and statistical test we are using. Include these details in your write up."
      ],
      "metadata": {
        "id": "9EzrIZlodAxY"
      }
    },
    {
      "cell_type": "code",
      "source": [
        "stats_within_situation(recording_num=1,cell_num=1,situation=1,align_to='reward',window_a_ms=[-250,50],window_b_ms=[50,250],test='ranksum')"
      ],
      "metadata": {
        "id": "Eo_npQfpdU9A"
      },
      "execution_count": null,
      "outputs": []
    },
    {
      "cell_type": "markdown",
      "source": [
        "##Cue Responses\n",
        "\n",
        "We will use the function stats_between_situation to check whether the cue responses is different between situations. You will need to change the recording_num and cell_num to answer the question. Note the window and statistical test we are using and include these details in your write up."
      ],
      "metadata": {
        "id": "D7NQGd60d1lt"
      }
    },
    {
      "cell_type": "code",
      "source": [
        "stats_between_situations(recording_num=1,cell_num=1,align_to='cue',window_ms = [50,400],test='kruskal',situations=[2,3,5])"
      ],
      "metadata": {
        "id": "ZaLwT8akd0ii"
      },
      "execution_count": null,
      "outputs": []
    }
  ]
}